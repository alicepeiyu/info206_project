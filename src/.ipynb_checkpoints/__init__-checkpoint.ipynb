{
 "cells": [
  {
   "cell_type": "code",
   "execution_count": 1,
   "metadata": {},
   "outputs": [
    {
     "name": "stdout",
     "output_type": "stream",
     "text": [
      "Welcome to Recipe Generator\n",
      "Enter the list of ingredients (comma seperated)banana,chocolate,milk\n",
      "\n",
      "Use the numbers to navigate the menu.\n",
      "Please choose the type of recipe?\n",
      "1) Vegetarian Recipe\n",
      "2) Nonvegetarian Recipe\n",
      "3) Quit\n",
      "> 1\n",
      "\n",
      "Vegetarian Recipe Generator\n",
      "\n",
      "Use the numbers to navigate the menu.\n",
      "Please choose your recipe preference.\n",
      "1) Category\n",
      "2) World Cuisine\n",
      "3) No Preference\n",
      "4) Quit\n",
      "> 1\n",
      "\n",
      "Use the numbers to navigate the menu.\n",
      "Please choose a category for your recipe.\n",
      "1) Appetizers And Snacks\n",
      "2) Breakfast And Brunch\n",
      "3) Main Dish\n",
      "4) Desserts\n",
      "5) Drinks\n",
      "6) Salad\n",
      "7) Fruits And Vegetables\n",
      "8) Side Dish\n",
      "9) Soups, Stews And Chili\n",
      "10) Quit\n",
      "> 4\n",
      "{'category': 'Desserts'}\n",
      "1) View Recipe\n",
      "2) Download Recipe\n",
      "3) Quit\n",
      "> 1\n",
      "1 ) Link:  http://allrecipes.com//recipe/12539/chocolate-banana-cream-pie/\n",
      "2 ) Link:  http://allrecipes.com//recipe/9419/cranberry-fudge/\n",
      "3 ) Link:  http://allrecipes.com//recipe/233674/minute-chocolate-mug-cake/\n",
      "4 ) Link:  http://allrecipes.com//recipe/10245/oatmeal-chocolate-coconut-chewy/\n",
      "5 ) Link:  http://allrecipes.com//recipe/12546/mississippi-mud-pie-i/\n",
      "Which recipe do you want or -1 for more recipes?1\n",
      "quit\n"
     ]
    }
   ],
   "source": [
    "run Recipe_main"
   ]
  },
  {
   "cell_type": "code",
   "execution_count": null,
   "metadata": {
    "collapsed": true
   },
   "outputs": [],
   "source": []
  }
 ],
 "metadata": {
  "kernelspec": {
   "display_name": "Python 3",
   "language": "python",
   "name": "python3"
  },
  "language_info": {
   "codemirror_mode": {
    "name": "ipython",
    "version": 3
   },
   "file_extension": ".py",
   "mimetype": "text/x-python",
   "name": "python",
   "nbconvert_exporter": "python",
   "pygments_lexer": "ipython3",
   "version": "3.6.1"
  }
 },
 "nbformat": 4,
 "nbformat_minor": 2
}
